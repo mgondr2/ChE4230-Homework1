{
 "cells": [
  {
   "cell_type": "markdown",
   "metadata": {},
   "source": [
    "2.\tGiven a list:\n",
    "\n",
    "list_a = [3, 4, 6, 10, 39, 87, 12, 54]\n",
    "\n",
    "(a) Find the maximum, minimum, and summation number of the list\n",
    "(b) Sort the list in ascending order\n",
    "(c) Write a for loop to print each element in list_a\n"
   ]
  },
  {
   "cell_type": "code",
   "execution_count": 1,
   "metadata": {},
   "outputs": [
    {
     "name": "stdout",
     "output_type": "stream",
     "text": [
      "87\n",
      "3\n",
      "215\n",
      "[3, 4, 6, 10, 12, 39, 54, 87]\n",
      "3\n",
      "4\n",
      "6\n",
      "10\n",
      "39\n",
      "87\n",
      "12\n",
      "54\n"
     ]
    }
   ],
   "source": [
    "list_a=[3, 4, 6, 10, 39, 87, 12, 54]\n",
    "#a)\n",
    "print(max(list_a))\n",
    "print(min(list_a))\n",
    "print(sum(list_a))\n",
    "\n",
    "#b)\n",
    "sorted_list = sorted(list_a)\n",
    "print(sorted_list)\n",
    "\n",
    "#c)\n",
    "for element in list_a:\n",
    "        print(element)\n",
    "\n"
   ]
  },
  {
   "cell_type": "markdown",
   "metadata": {},
   "source": [
    "3.\tA prime number is a whole number greater than 1 whose only factors are 1 and itself. A factor is a whole number that can be divided evenly into another number. \n",
    "\n",
    "(a) Based on the definition of prime number, define a function to determine whether an input integer is a prime number or not\n",
    "(b) Find all prime numbers below 100\n",
    "(c) Define a function to find all prime numbers below a custom-defined number, n\n",
    "(d) Call your defined function to find all prime numbers with n = 1000\n"
   ]
  },
  {
   "cell_type": "code",
   "execution_count": 2,
   "metadata": {},
   "outputs": [
    {
     "name": "stdout",
     "output_type": "stream",
     "text": [
      "Prime numbers below 100: [2, 3, 5, 7, 11, 13, 17, 19, 23, 29, 31, 37, 41, 43, 47, 53, 59, 61, 67, 71, 73, 79, 83, 89, 97]\n",
      "Prime numbers below 1000: [2, 3, 5, 7, 11, 13, 17, 19, 23, 29, 31, 37, 41, 43, 47, 53, 59, 61, 67, 71, 73, 79, 83, 89, 97, 101, 103, 107, 109, 113, 127, 131, 137, 139, 149, 151, 157, 163, 167, 173, 179, 181, 191, 193, 197, 199, 211, 223, 227, 229, 233, 239, 241, 251, 257, 263, 269, 271, 277, 281, 283, 293, 307, 311, 313, 317, 331, 337, 347, 349, 353, 359, 367, 373, 379, 383, 389, 397, 401, 409, 419, 421, 431, 433, 439, 443, 449, 457, 461, 463, 467, 479, 487, 491, 499, 503, 509, 521, 523, 541, 547, 557, 563, 569, 571, 577, 587, 593, 599, 601, 607, 613, 617, 619, 631, 641, 643, 647, 653, 659, 661, 673, 677, 683, 691, 701, 709, 719, 727, 733, 739, 743, 751, 757, 761, 769, 773, 787, 797, 809, 811, 821, 823, 827, 829, 839, 853, 857, 859, 863, 877, 881, 883, 887, 907, 911, 919, 929, 937, 941, 947, 953, 967, 971, 977, 983, 991, 997]\n"
     ]
    }
   ],
   "source": [
    "#a)\n",
    "def is_prime(n):\n",
    "        if n<2: \n",
    "            return False\n",
    "        for i in range(2, int(n ** 0.5) + 1):\n",
    "              if n % i ==0:\n",
    "                    return False\n",
    "        return True\n",
    "\n",
    "#b)\n",
    "primes_below_100 = [num for num in range(2, 100) if is_prime(num)]\n",
    "print(\"Prime numbers below 100:\", primes_below_100)\n",
    "\n",
    "#c)\n",
    "def primes_below_n(n):\n",
    "      return [num for num in range(2, n) if is_prime(num)]\n",
    "\n",
    "#d)\n",
    "primes_below_1000 = primes_below_n(1000)\n",
    "print(\"Prime numbers below 1000:\", primes_below_1000)\n"
   ]
  },
  {
   "cell_type": "markdown",
   "metadata": {},
   "source": [
    "4.\t(a) Define a function to output a 3D (n×3×3) numpy array, where n is the input value (argument) of the function to control the length of the array, and data is the input value that determines what kind of data it contains\n",
    "(b) Call the function for n=10 and populate the array with zeroes\n",
    "(c) Call the function for n=5 and populate the array with random numbers between 1 and 100\n"
   ]
  },
  {
   "cell_type": "code",
   "execution_count": 6,
   "metadata": {},
   "outputs": [
    {
     "name": "stdout",
     "output_type": "stream",
     "text": [
      "3D array with zeroes:\n",
      " [[[0. 0. 0.]\n",
      "  [0. 0. 0.]\n",
      "  [0. 0. 0.]]\n",
      "\n",
      " [[0. 0. 0.]\n",
      "  [0. 0. 0.]\n",
      "  [0. 0. 0.]]\n",
      "\n",
      " [[0. 0. 0.]\n",
      "  [0. 0. 0.]\n",
      "  [0. 0. 0.]]\n",
      "\n",
      " [[0. 0. 0.]\n",
      "  [0. 0. 0.]\n",
      "  [0. 0. 0.]]\n",
      "\n",
      " [[0. 0. 0.]\n",
      "  [0. 0. 0.]\n",
      "  [0. 0. 0.]]\n",
      "\n",
      " [[0. 0. 0.]\n",
      "  [0. 0. 0.]\n",
      "  [0. 0. 0.]]\n",
      "\n",
      " [[0. 0. 0.]\n",
      "  [0. 0. 0.]\n",
      "  [0. 0. 0.]]\n",
      "\n",
      " [[0. 0. 0.]\n",
      "  [0. 0. 0.]\n",
      "  [0. 0. 0.]]\n",
      "\n",
      " [[0. 0. 0.]\n",
      "  [0. 0. 0.]\n",
      "  [0. 0. 0.]]\n",
      "\n",
      " [[0. 0. 0.]\n",
      "  [0. 0. 0.]\n",
      "  [0. 0. 0.]]]\n",
      "3D array with random numbers:\n",
      " [[[71 98 19]\n",
      "  [11 50 48]\n",
      "  [78 29 71]]\n",
      "\n",
      " [[19 82 16]\n",
      "  [ 7 77 83]\n",
      "  [ 3 90 49]]\n",
      "\n",
      " [[10 30 50]\n",
      "  [96 34 94]\n",
      "  [83 66 83]]\n",
      "\n",
      " [[18 64 79]\n",
      "  [19 55 81]\n",
      "  [56 38 15]]\n",
      "\n",
      " [[ 4 75 69]\n",
      "  [30 62 67]\n",
      "  [67 30 65]]]\n"
     ]
    }
   ],
   "source": [
    "#a)\n",
    "import numpy as np\n",
    "\n",
    "def create_3d_array(n,data_type='zeros'):\n",
    "    if data_type == 'zeros':\n",
    "        return np.zeros((n, 3, 3))\n",
    "    elif data_type == 'random':\n",
    "        return np.random.randint(1, 101, size=(n, 3, 3))\n",
    "    else:\n",
    "        return ValueError(\"Invalid data_type. Use 'zeros' or 'random'.\")\n",
    "    \n",
    "#b)\n",
    "array_zeros = create_3d_array(10, 'zeros')\n",
    "print(\"3D array with zeroes:\\n\", array_zeros)\n",
    "\n",
    "#c)\n",
    "array_random = create_3d_array(5, 'random')\n",
    "print(\"3D array with random numbers:\\n\", array_random)\n",
    "\n",
    "    "
   ]
  },
  {
   "cell_type": "markdown",
   "metadata": {},
   "source": [
    "5.\tSolve following set of equations using linear algebra and numpy.\n",
    "\n",
    "3a + 4b -5c = 10\n",
    "5b + c = 8\n",
    "a + 3b + 6c = -5\n"
   ]
  },
  {
   "cell_type": "code",
   "execution_count": 7,
   "metadata": {},
   "outputs": [
    {
     "name": "stdout",
     "output_type": "stream",
     "text": [
      "Solution: a= -1.7, b = 1.9, c = -1.5\n"
     ]
    }
   ],
   "source": [
    "import numpy as np\n",
    "\n",
    "A = np.array([\n",
    "    [3, 4, -5],\n",
    "    [0, 5, 1],\n",
    "    [1, 3, 6]\n",
    "])\n",
    "\n",
    "B = np.array([10, 8, -5])\n",
    "\n",
    "solution = np.linalg.solve(A,B)\n",
    "\n",
    "a, b, c = solution\n",
    "print(f\"Solution: a= {a}, b = {b}, c = {c}\")"
   ]
  },
  {
   "cell_type": "markdown",
   "metadata": {},
   "source": [
    "6.\tGiven an expression:\n",
    "\n",
    "y = 0.1x^3-x^2+5\n",
    "\n",
    "(a) Plot the function in the range of x from -5 to 5\n",
    "(b) Find the maximum and minimum value of this function and add them with points and labels on the same figure\n"
   ]
  },
  {
   "cell_type": "code",
   "execution_count": 11,
   "metadata": {},
   "outputs": [
    {
     "data": {
      "image/png": "[encoded data removed]",
      "text/plain": [
       "<Figure size 800x600 with 1 Axes>"
      ]
     },
     "metadata": {},
     "output_type": "display_data"
    }
   ],
   "source": [
    "#a) \n",
    "import numpy as np\n",
    "import matplotlib.pyplot as plt\n",
    "from scipy.optimize import minimize_scalar\n",
    "\n",
    "#Define Function\n",
    "def f(x):\n",
    "    return 0.1*x**3 - x**2 + 5\n",
    "\n",
    "#Generate x values from -5 to 5\n",
    "x = np.linspace(-5, 5, 400)\n",
    "y = f(x)\n",
    "\n",
    "#plot function\n",
    "plt.figure(figsize=(8,6))\n",
    "plt.plot(x, y, label=r'$y = 0.1x^3 - x^2 + 5$', color='blue')\n",
    "\n",
    "#b)\n",
    "#find min and max\n",
    "res_min = minimize_scalar(f, bounds=(-5, 5), method='bounded')\n",
    "res_max = minimize_scalar(lambda x: -f(x), bounds=(-5,5), method='bounded')\n",
    "\n",
    "x_min, y_min = res_min.x, res_min.fun\n",
    "x_max, y_max = res_max.x, -res_max.fun\n",
    "\n",
    "#add pts and labels for min and max\n",
    "plt.scatter([x_min, x_max], [y_min, y_max], color='pink', zorder=5)\n",
    "plt.text(x_min, y_min, f'Min: ({x_min:.2f}, {y_min:.2f})', fontsize=12, verticalalignment='bottom')\n",
    "plt.text(x_max, y_max, f'Max: ({x_max:.2f}, {y_max:.2f})', fontsize=12, verticalalignment='top')\n",
    "\n",
    "#format plot\n",
    "plt.xlabel('x')\n",
    "plt.ylabel('y')\n",
    "plt.legend()\n",
    "plt.grid()\n",
    "plt.show()\n",
    "\n",
    "\n"
   ]
  }
 ],
 "metadata": {
  "kernelspec": {
   "display_name": "env",
   "language": "python",
   "name": "python3"
  },
  "language_info": {
   "codemirror_mode": {
    "name": "ipython",
    "version": 3
   },
   "file_extension": ".py",
   "mimetype": "text/x-python",
   "name": "python",
   "nbconvert_exporter": "python",
   "pygments_lexer": "ipython3",
   "version": "3.13.1"
  }
 },
 "nbformat": 4,
 "nbformat_minor": 2
}
